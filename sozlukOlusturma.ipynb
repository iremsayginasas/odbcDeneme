{
  "nbformat": 4,
  "nbformat_minor": 0,
  "metadata": {
    "colab": {
      "provenance": [],
      "authorship_tag": "ABX9TyPCCehAGxXfYg8Z6aBxyqOz",
      "include_colab_link": true
    },
    "kernelspec": {
      "name": "python3",
      "display_name": "Python 3"
    },
    "language_info": {
      "name": "python"
    }
  },
  "cells": [
    {
      "cell_type": "markdown",
      "metadata": {
        "id": "view-in-github",
        "colab_type": "text"
      },
      "source": [
        "<a href=\"https://colab.research.google.com/github/iremsayginasas/odbcDeneme/blob/main/sozlukOlusturma.ipynb\" target=\"_parent\"><img src=\"https://colab.research.google.com/assets/colab-badge.svg\" alt=\"Open In Colab\"/></a>"
      ]
    },
    {
      "cell_type": "markdown",
      "source": [
        "Dosyayı okumak icin olan kod"
      ],
      "metadata": {
        "id": "crV2WdaxOix7"
      }
    },
    {
      "cell_type": "code",
      "execution_count": 18,
      "metadata": {
        "id": "l-ZJKzweHTBV"
      },
      "outputs": [],
      "source": [
        "# Dosya yolunu belirt\n",
        "dosya_yolu = '/content/ODBC Deneme/RFC.txt'\n",
        "\n",
        "# Dosyayı aç ve oku\n",
        "with open(dosya_yolu, 'r', encoding='utf-8') as dosya:\n",
        "    icerik = dosya.read()"
      ]
    },
    {
      "cell_type": "markdown",
      "source": [
        "tablo isimlerini bulma"
      ],
      "metadata": {
        "id": "o0s-8olZPec7"
      }
    },
    {
      "cell_type": "code",
      "source": [
        "import re\n",
        "\n",
        "# FROM ile ; arasındaki tablo adlarını almak için liste oluştur\n",
        "tablolar = []\n",
        "\n",
        "# FROM ile ; arasındaki tüm kısımları bul\n",
        "from_kisimlari = re.findall(r'FROM(.*?);', icerik, re.DOTALL)\n",
        "for kismi in from_kisimlari:\n",
        "    # Bulunan kısmı virgül ile ayır\n",
        "    tablo_kelimeleri = kismi.split(',')\n",
        "\n",
        "    for kelime in tablo_kelimeleri:\n",
        "        # 'as' ifadesini ve fazladan boşlukları temizle\n",
        "        tablo_adi = re.sub(r'\\bas\\b.*', '', kelime).strip()\n",
        "        if tablo_adi:  # Boş olmayan tablo adını ekle\n",
        "            tablolar.append(tablo_adi)\n",
        "\n",
        "# Tekrarlanan tablo adlarını kaldır\n",
        "tablolar = list(set(tablolar))\n",
        "\n",
        "# Sonuçları göster\n",
        "print(\"Tablo listesi:\", tablolar)\n"
      ],
      "metadata": {
        "colab": {
          "base_uri": "https://localhost:8080/"
        },
        "id": "uy_N3NJsQCuX",
        "outputId": "f5029c5c-9004-4ec7-e2f6-d9e159af39f5"
      },
      "execution_count": 19,
      "outputs": [
        {
          "output_type": "stream",
          "name": "stdout",
          "text": [
            "Tablo listesi: ['VBAK']\n"
          ]
        }
      ]
    },
    {
      "cell_type": "markdown",
      "source": [
        "alanları bulma"
      ],
      "metadata": {
        "id": "qnh7Sp_kRyNx"
      }
    },
    {
      "cell_type": "code",
      "source": [
        "# SELECT sonrası alan isimlerini saklamak için liste oluştur\n",
        "alanlar = []\n",
        "\n",
        "# SELECT ile FROM veya ; arasındaki tüm kısımları bul\n",
        "select_kisimlari = re.findall(r'SELECT(.*?)(FROM|;)', icerik, re.DOTALL)\n",
        "for kismi, _ in select_kisimlari:\n",
        "    # Satırları ayır ve her satırdaki alan isimlerini al\n",
        "    satirlar = kismi.strip().splitlines()\n",
        "    for satir in satirlar:\n",
        "        alan_adi = satir.strip()\n",
        "        if alan_adi:  # Boş olmayan alan adını ekle\n",
        "            alanlar.append(alan_adi)\n",
        "\n",
        "# Sonuçları göster\n",
        "print(\"Alanlar listesi:\", alanlar)\n"
      ],
      "metadata": {
        "colab": {
          "base_uri": "https://localhost:8080/"
        },
        "id": "gk9RhUHgR0ae",
        "outputId": "86cc75f1-6396-4711-8373-153a53a9108c"
      },
      "execution_count": 20,
      "outputs": [
        {
          "output_type": "stream",
          "name": "stdout",
          "text": [
            "Alanlar listesi: ['VBELN', 'ERDAT', 'ERZET', 'ERNAM', 'AUDAT', 'VBTYP', 'TRVOG', 'AUART', 'AUGRU', 'LIFSK', 'FAKSK', 'NETWR', 'WAERK', 'VKORG', 'VTWEG', 'SPART', 'VKGRP', 'VKBUR', 'GUEBG', 'GUEEN', 'KNUMV', 'VDATU', 'VPRGR', 'AUTLF', 'KALSM', 'VSBED', 'FKARA', 'AWAHR', 'KTEXT', 'BSTNK', 'BSARK', 'BSTDK', 'TELF1', 'KUNNR', 'STAFO', 'STWAE', 'AEDAT', 'KVGR1', 'KVGR2', 'KVGR3', 'KVGR5', 'KOKRS', 'KURST', 'KKBER', 'KNKLI', 'CTLPC', 'CMWAE', 'CMFRE', 'CMNGV', 'AMTBL', 'HITYP_PR', 'ABRVW', 'ABDIS', 'VGBEL', 'OBJNR', 'BUKRS_VF', 'TAXK1', 'TAXK2', 'XBLNR', 'ZUONR', 'VGTYP', 'ABRUF_PART', 'STCEG_L', 'LANDTX', 'HANDLE', 'UPD_TMSTMP', 'LAST_CHANGED_BY_USER', 'ABSTK', 'BESTK', 'CMPS_CM', 'CMPS_TE', 'CMGST', 'FKSAK', 'FSSTK', 'GBSTK', 'LFGSK', 'LFSTK', 'LSSTK', 'RFGSK', 'RFSTK', 'SPSTG', 'TRSTA', 'UVALL', 'UVALS', 'UVFAK', 'UVFAS', 'UVPRS', 'UVVLK', 'UVVLS', 'ZZBAGNO', 'ZZMUSTRH', 'ZZKURFIX', 'ZZARRIVAL_DATE', 'ZZPARFIX', 'ZZPARITE', 'ZZVSART', 'ZZFUNCTION', 'ZZONAYVERILDI', 'ZZMSBF', 'ZZKKURS', 'ZZKKURSPB', 'ZZKKURS2', 'ZZKKURS2PB', 'ZZTSVBELNO', 'ZZTESVIK', 'ZZTLKDV', 'ZZSTATU', 'ZZTESVIKNO', 'ZZPROJENO', 'ZZNAKLIYE_SURESI', 'ZZKNPRS', 'ZZMUSTERITEYIT', 'ZZURTONYTRH', 'ZZURTONYSAAT', 'ZZSDABW', 'ZZSCRAPPRICE', 'ZZINVPRSDATE', 'ZZFBD', 'ZZFED']\n"
          ]
        }
      ]
    },
    {
      "cell_type": "markdown",
      "source": [
        "alanların veri tiplerini ve acıklamalarını bulma"
      ],
      "metadata": {
        "id": "KYvqCJjnUbtG"
      }
    },
    {
      "cell_type": "code",
      "source": [
        "import pandas as pd\n",
        "\n",
        "# Excel dosyasının yolu\n",
        "excel_path = '/content/ODBC Deneme/v_tablosu.xlsx'\n",
        "\n",
        "# Excel dosyasını yükle\n",
        "df = pd.read_excel(excel_path)\n",
        "\n",
        "# Yeni bir liste oluşturacağız\n",
        "alan_bilgileri = []\n",
        "\n",
        "# Her alan için veri tipini ve açıklamayı bul ve listeye ekle\n",
        "for alan in alanlar:\n",
        "    # 'V_FIELDNAME' sütununda alan adını arayarak eşleşen satırları bul\n",
        "    matches = df[df['V_FIELDNAME'] == alan]\n",
        "    if not matches.empty:\n",
        "        # Eşleşme varsa, gerekli bilgileri al\n",
        "        for _, row in matches.iterrows():\n",
        "            bilgi = {\n",
        "                \"Alan Adı\": alan,\n",
        "                \"Veri Tipi\": row['V_DATATYPE'],\n",
        "                \"Açıklama\": row['V_SCRTEXT_L']\n",
        "            }\n",
        "            alan_bilgileri.append(bilgi)\n",
        "    else:\n",
        "        # Eşleşme yoksa, bilinmeyen olarak ekle\n",
        "        bilgi = {\n",
        "            \"Alan Adı\": alan,\n",
        "            \"Veri Tipi\": \"Bilinmiyor\",\n",
        "            \"Açıklama\": \"Bilinmiyor\"\n",
        "        }\n",
        "        alan_bilgileri.append(bilgi)\n",
        "\n",
        "# Sonuçları DataFrame olarak göstermek\n",
        "alan_bilgileri_df = pd.DataFrame(alan_bilgileri)\n",
        "print(alan_bilgileri_df)\n"
      ],
      "metadata": {
        "colab": {
          "base_uri": "https://localhost:8080/"
        },
        "id": "P1aISL19UfgD",
        "outputId": "ca098c34-b021-4761-a965-655c81d64338"
      },
      "execution_count": 21,
      "outputs": [
        {
          "output_type": "stream",
          "name": "stdout",
          "text": [
            "         Alan Adı   Veri Tipi        Açıklama\n",
            "0           VBELN        CHAR      SD belgesi\n",
            "1           ERDAT        DATS  Yaratma tarihi\n",
            "2           ERZET        TIMS            Saat\n",
            "3           ERNAM        CHAR         Yaratan\n",
            "4           AUDAT        DATS    Belge tarihi\n",
            "..            ...         ...             ...\n",
            "114       ZZSDABW        CHAR   Tes.ÖzelİşlTn\n",
            "115  ZZSCRAPPRICE  Bilinmiyor      Bilinmiyor\n",
            "116  ZZINVPRSDATE  Bilinmiyor      Bilinmiyor\n",
            "117         ZZFBD  Bilinmiyor      Bilinmiyor\n",
            "118         ZZFED  Bilinmiyor      Bilinmiyor\n",
            "\n",
            "[119 rows x 3 columns]\n"
          ]
        }
      ]
    },
    {
      "cell_type": "markdown",
      "source": [
        "ODBC ye dönüştürme"
      ],
      "metadata": {
        "id": "7LSV3MhtXx0a"
      }
    },
    {
      "cell_type": "code",
      "source": [
        "import pandas as pd\n",
        "\n",
        "# Excel dosyasının yolu\n",
        "excel_path = '/content/ODBC Deneme/v_tablosu.xlsx'\n",
        "\n",
        "# Excel dosyasını yükle\n",
        "df = pd.read_excel(excel_path)\n",
        "\n",
        "# Yeni bir liste oluşturacağız\n",
        "alan_bilgileri = []\n",
        "\n",
        "# Her alan için veri tipini, açıklamayı ve ODBC ifadesini bul ve listeye ekle\n",
        "for alan in alanlar:\n",
        "    # 'V_FIELDNAME' sütununda alan adını arayarak eşleşen satırları bul\n",
        "    matches = df[df['V_FIELDNAME'] == alan]\n",
        "    if not matches.empty:\n",
        "        for _, row in matches.iterrows():\n",
        "            veri_tipi = row['V_DATATYPE']\n",
        "            tablo_adi = row['V_TABNAME']\n",
        "            aciklama = f'\"{row[\"V_SCRTEXT_L\"]}\"' if pd.notna(row['V_SCRTEXT_L']) else alan\n",
        "\n",
        "            # ODBC formatını belirle\n",
        "            if veri_tipi == 'CHAR':  # Text tipi\n",
        "                alan_ODBC = f\"text({alan}) as {aciklama}\"\n",
        "            elif veri_tipi == 'DATS':  # Date tipi\n",
        "                alan_ODBC = f\"date(date#({alan},'YYYYMMDD')) as {aciklama}\"\n",
        "            elif veri_tipi == 'TIMS':  # Time tipi\n",
        "                alan_ODBC = f\"time(time#({alan},'hhmmss'),'h:mm:ss TT') as {aciklama}\"\n",
        "            elif veri_tipi == 'NUMC':  # Num tipi\n",
        "                alan_ODBC = f\"num({alan}) as {aciklama}\"\n",
        "            else:\n",
        "                alan_ODBC = alan  # Diğer veri tipleri için değişiklik yok\n",
        "\n",
        "            # Bilgileri kaydet\n",
        "            bilgi = {\n",
        "                \"Alan Adı\": alan,\n",
        "                \"Veri Tipi\": veri_tipi,\n",
        "                \"Açıklama\": aciklama,\n",
        "                \"alan_ODBC\": alan_ODBC\n",
        "            }\n",
        "            alan_bilgileri.append(bilgi)\n",
        "    else:\n",
        "        # Eşleşme yoksa, bilinmeyen olarak ekle\n",
        "        bilgi = {\n",
        "            \"Alan Adı\": alan,\n",
        "            \"Veri Tipi\": \"Bilinmiyor\",\n",
        "            \"Açıklama\": \"Bilinmiyor\",\n",
        "            \"alan_ODBC\": alan\n",
        "        }\n",
        "        alan_bilgileri.append(bilgi)\n",
        "\n",
        "# Sonuçları DataFrame olarak gösterelim\n",
        "alan_bilgileri_df = pd.DataFrame(alan_bilgileri)\n",
        "print(alan_bilgileri_df)\n"
      ],
      "metadata": {
        "colab": {
          "base_uri": "https://localhost:8080/"
        },
        "id": "2T3cU9CdX15Q",
        "outputId": "cfe2815e-a55d-47d1-a88f-987b196854f7"
      },
      "execution_count": 22,
      "outputs": [
        {
          "output_type": "stream",
          "name": "stdout",
          "text": [
            "         Alan Adı   Veri Tipi          Açıklama  \\\n",
            "0           VBELN        CHAR      \"SD belgesi\"   \n",
            "1           ERDAT        DATS  \"Yaratma tarihi\"   \n",
            "2           ERZET        TIMS            \"Saat\"   \n",
            "3           ERNAM        CHAR         \"Yaratan\"   \n",
            "4           AUDAT        DATS    \"Belge tarihi\"   \n",
            "..            ...         ...               ...   \n",
            "114       ZZSDABW        CHAR   \"Tes.ÖzelİşlTn\"   \n",
            "115  ZZSCRAPPRICE  Bilinmiyor        Bilinmiyor   \n",
            "116  ZZINVPRSDATE  Bilinmiyor        Bilinmiyor   \n",
            "117         ZZFBD  Bilinmiyor        Bilinmiyor   \n",
            "118         ZZFED  Bilinmiyor        Bilinmiyor   \n",
            "\n",
            "                                             alan_ODBC  \n",
            "0                          text(VBELN) as \"SD belgesi\"  \n",
            "1    date(date#(ERDAT,'YYYYMMDD')) as \"Yaratma tarihi\"  \n",
            "2    time(time#(ERZET,'hhmmss'),'h:mm:ss TT') as \"S...  \n",
            "3                             text(ERNAM) as \"Yaratan\"  \n",
            "4      date(date#(AUDAT,'YYYYMMDD')) as \"Belge tarihi\"  \n",
            "..                                                 ...  \n",
            "114                   text(ZZSDABW) as \"Tes.ÖzelİşlTn\"  \n",
            "115                                       ZZSCRAPPRICE  \n",
            "116                                       ZZINVPRSDATE  \n",
            "117                                              ZZFBD  \n",
            "118                                              ZZFED  \n",
            "\n",
            "[119 rows x 4 columns]\n"
          ]
        }
      ]
    },
    {
      "cell_type": "markdown",
      "source": [
        "excel olusturma ve burada kontrol etme"
      ],
      "metadata": {
        "id": "0PKXxJBMZj7I"
      }
    },
    {
      "cell_type": "code",
      "source": [
        "# Yeni Excel dosyasına kaydet\n",
        "output_path = '/content/ODBC Deneme/alan_bilgileri.xlsx'\n",
        "alan_bilgileri_df.to_excel(output_path, index=False)\n",
        "\n",
        "print(f\"Alan bilgileri '{output_path}' dosyasına kaydedildi.\")"
      ],
      "metadata": {
        "colab": {
          "base_uri": "https://localhost:8080/"
        },
        "id": "NOvCSdvBZnbt",
        "outputId": "d5986675-8720-4369-94d7-6f6f45174dbc"
      },
      "execution_count": 23,
      "outputs": [
        {
          "output_type": "stream",
          "name": "stdout",
          "text": [
            "Alan bilgileri '/content/ODBC Deneme/alan_bilgileri.xlsx' dosyasına kaydedildi.\n"
          ]
        }
      ]
    },
    {
      "cell_type": "markdown",
      "source": [
        "ODBC.txt oluşturma"
      ],
      "metadata": {
        "id": "HvXfFBkNodEM"
      }
    },
    {
      "cell_type": "code",
      "source": [
        "import pandas as pd\n",
        "\n",
        "# Excel dosyasının yolu\n",
        "excel_path = '/content/ODBC Deneme/v_tablosu.xlsx'\n",
        "\n",
        "# Excel dosyasını yükle\n",
        "df = pd.read_excel(excel_path)\n",
        "\n",
        "# Yeni bir liste oluşturacağız\n",
        "alan_bilgileri = []\n",
        "\n",
        "# Yeni bir sözlük oluşturuyoruz; her tablo adı için alanları saklayacağız\n",
        "tablo_bilgileri = {}\n",
        "\n",
        "# Her alan için veri tipini, açıklamayı ve ODBC ifadesini bul\n",
        "for alan in alanlar:\n",
        "    matches = df[df['V_FIELDNAME'] == alan]\n",
        "    if not matches.empty:\n",
        "        for _, row in matches.iterrows():\n",
        "            veri_tipi = row['V_DATATYPE']\n",
        "            tablo_adi = row['V_TABNAME']\n",
        "            aciklama = f'\"{row[\"V_SCRTEXT_L\"]}\"' if pd.notna(row['V_SCRTEXT_L']) else alan\n",
        "\n",
        "            # ODBC formatını belirle\n",
        "            if veri_tipi == 'CHAR':  # Text tipi\n",
        "                alan_ODBC = f\"text({alan}) as {aciklama}\"\n",
        "            elif veri_tipi == 'DATS':  # Date tipi\n",
        "                alan_ODBC = f\"date(date#({alan},'YYYYMMDD')) as {aciklama}\"\n",
        "            elif veri_tipi == 'TIMS':  # Time tipi\n",
        "                alan_ODBC = f\"time(time#({alan},'hhmmss'),'h:mm:ss TT') as {aciklama}\"\n",
        "            elif veri_tipi == 'NUMC':  # Num tipi\n",
        "                alan_ODBC = f\"num({alan}) as {aciklama}\"\n",
        "            elif veri_tipi == 'DEC':  # Decimal tipi\n",
        "                alan_ODBC = f\"decimal({alan}) as {aciklama}\"\n",
        "            elif veri_tipi == 'CURR':  # Currency tipi\n",
        "                alan_ODBC = f\"currency({alan}) as {aciklama}\"\n",
        "            elif veri_tipi == 'FLTP':  # Floating Point tipi\n",
        "                alan_ODBC = f\"float({alan}) as {aciklama}\"\n",
        "            elif veri_tipi == 'CLNT' or veri_tipi == 'LANG':  # Client ve Language tipleri\n",
        "                alan_ODBC = f\"text({alan}) as {aciklama}\"\n",
        "            elif veri_tipi == 'CUKY':  # Currency Key tipi\n",
        "                alan_ODBC = f\"text({alan}) as {aciklama}\"\n",
        "            else:\n",
        "                alan_ODBC = alan  # Diğer veri tipleri için değişiklik yok\n",
        "\n",
        "\n",
        "            # Tablo adına göre alanları grupla\n",
        "            if tablo_adi not in tablo_bilgileri:\n",
        "                tablo_bilgileri[tablo_adi] = []\n",
        "            tablo_bilgileri[tablo_adi].append(alan_ODBC)\n",
        "\n",
        "# ODBC_version.txt dosyasını oluşturma\n",
        "with open(\"ODBC_version.txt\", \"w\", encoding=\"utf-8\") as f:\n",
        "    for tablo_adi, alanlar_odbc in tablo_bilgileri.items():\n",
        "        # Tablo adı ve başlıkları yaz\n",
        "        f.write(f\"{tablo_adi}:\\n\")\n",
        "        f.write(\"LOAD\\n\")\n",
        "\n",
        "        # Her alanın ODBC versiyonunu satır satır yaz\n",
        "        for alan_ODBC in alanlar_odbc:\n",
        "            f.write(f\"\\t\\t{alan_ODBC},\\n\")\n",
        "\n",
        "        # Son satırda noktalı virgül koy\n",
        "        f.write(\";\\n\\n\")\n",
        "\n",
        "    # İlk verilen txt dosyasını ekle\n",
        "    with open(\"/content/ODBC Deneme/RFC.txt\", \"r\", encoding=\"utf-8\") as orijinal_dosya:\n",
        "        f.write(orijinal_dosya.read())\n",
        "\n",
        "print(\"ODBC_version.txt dosyası başarıyla oluşturuldu.\")\n"
      ],
      "metadata": {
        "colab": {
          "base_uri": "https://localhost:8080/"
        },
        "id": "zIb64PahqrR-",
        "outputId": "8501a554-652a-4375-9e1b-0530fea7f367"
      },
      "execution_count": 29,
      "outputs": [
        {
          "output_type": "stream",
          "name": "stdout",
          "text": [
            "ODBC_version.txt dosyası başarıyla oluşturuldu.\n"
          ]
        }
      ]
    }
  ]
}
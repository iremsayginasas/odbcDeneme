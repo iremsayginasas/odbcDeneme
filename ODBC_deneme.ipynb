{
  "cells": [
    {
      "cell_type": "markdown",
      "metadata": {
        "id": "view-in-github",
        "colab_type": "text"
      },
      "source": [
        "<a href=\"https://colab.research.google.com/github/iremsayginasas/odbcDeneme/blob/main/ODBC_deneme.ipynb\" target=\"_parent\"><img src=\"https://colab.research.google.com/assets/colab-badge.svg\" alt=\"Open In Colab\"/></a>"
      ]
    },
    {
      "cell_type": "code",
      "source": [
        "import openpyxl\n",
        "\n",
        "# Excel dosyası adı\n",
        "excel_dosyasi = \"/content/deneme/datas/donusumler.xlsx\"\n",
        "\n",
        "# Giriş dosyası adı\n",
        "giris_dosyasi = \"/content/deneme/datas/input/giris.txt\"\n",
        "\n",
        "# Çıkış dosyası adı\n",
        "cikis_dosyasi = \"/content/deneme/datas/output/output.txt\"\n",
        "\n",
        "try:\n",
        "    # Excel dosyasını açıyoruz\n",
        "    workbook = openpyxl.load_workbook(excel_dosyasi)\n",
        "    sheet = workbook.active\n",
        "\n",
        "    # Kolon adları ve dönüşümleri için bir sözlük oluşturuyoruz\n",
        "    donusumler = {}\n",
        "    for row in sheet.iter_rows(min_row=2, max_row=sheet.max_row, min_col=1, max_col=2):\n",
        "        kolon_adi = row[0].value\n",
        "        donusum = row[1].value\n",
        "        donusumler[kolon_adi] = donusum\n",
        "\n",
        "    # Giriş ve çıkış dosyalarını açıyoruz\n",
        "    with open(giris_dosyasi, \"r\") as giris, open(cikis_dosyasi, \"w\") as cikis:\n",
        "        # Giriş dosyasını satır satır okuyoruz\n",
        "        for satir in giris:\n",
        "            # Her satırı boşluklardan temizliyoruz\n",
        "            satir = satir.strip()\n",
        "            # Eğer satır boş ise atlıyoruz\n",
        "            if not satir:\n",
        "                continue\n",
        "            # Kolon adını alıyoruz\n",
        "            kolon_adi = satir.split(\",\")[0].strip()\n",
        "            # Eğer kolon adı donüşümler sözlüğünde varsa, dönüşümü uyguluyoruz\n",
        "            if kolon_adi in donusumler:\n",
        "                dönüşüm = donusumler[kolon_adi]\n",
        "                cikis.write(dönüşüm + \",\\n\")\n",
        "\n",
        "    print(\"İşlem tamamlandı. Çıkış dosyası '{}' adında oluşturuldu.\".format(cikis_dosyasi))\n",
        "\n",
        "except FileNotFoundError:\n",
        "    print(\"Dosya bulunamadı.\")\n",
        "\n",
        "except Exception as e:\n",
        "    print(\"Bir hata oluştu:\", e)"
      ],
      "metadata": {
        "id": "kf4I1SfUyFsf",
        "outputId": "da4fb700-8fa5-4a62-b731-3cd1f42bf634",
        "colab": {
          "base_uri": "https://localhost:8080/"
        }
      },
      "execution_count": 6,
      "outputs": [
        {
          "output_type": "stream",
          "name": "stdout",
          "text": [
            "İşlem tamamlandı. Çıkış dosyası '/content/deneme/datas/output/output.txt' adında oluşturuldu.\n"
          ]
        }
      ]
    }
  ],
  "metadata": {
    "colab": {
      "name": "Overview of Colaboratory Features",
      "provenance": [],
      "include_colab_link": true
    },
    "kernelspec": {
      "display_name": "Python 3",
      "name": "python3"
    }
  },
  "nbformat": 4,
  "nbformat_minor": 0
}